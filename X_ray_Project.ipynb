{
  "nbformat": 4,
  "nbformat_minor": 0,
  "metadata": {
    "colab": {
      "name": "X-ray-Project.ipynb",
      "provenance": [],
      "authorship_tag": "ABX9TyMuj2jns+OiJ/y9zvul+X+E",
      "include_colab_link": true
    },
    "kernelspec": {
      "name": "python3",
      "display_name": "Python 3"
    },
    "language_info": {
      "name": "python"
    }
  },
  "cells": [
    {
      "cell_type": "markdown",
      "metadata": {
        "id": "view-in-github",
        "colab_type": "text"
      },
      "source": [
        "<a href=\"https://colab.research.google.com/github/Dilru1/X-ray_Files/blob/main/X_ray_Project.ipynb\" target=\"_parent\"><img src=\"https://colab.research.google.com/assets/colab-badge.svg\" alt=\"Open In Colab\"/></a>"
      ]
    },
    {
      "cell_type": "code",
      "execution_count": 1,
      "metadata": {
        "id": "upPRzKnx7bXz"
      },
      "outputs": [],
      "source": [
        "import os\n",
        "from astropy.io import fits\n",
        "import matplotlib.pyplot as plt\n",
        "import numpy as np \n",
        "import sys\n",
        "from scipy import special\n"
      ]
    },
    {
      "cell_type": "code",
      "source": [
        ""
      ],
      "metadata": {
        "id": "u8SmiNT77k0b"
      },
      "execution_count": null,
      "outputs": []
    }
  ]
}