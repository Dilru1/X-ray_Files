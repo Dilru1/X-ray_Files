{
  "nbformat": 4,
  "nbformat_minor": 0,
  "metadata": {
    "colab": {
      "name": "X-ray-Project.ipynb",
      "provenance": [],
      "collapsed_sections": [],
      "authorship_tag": "ABX9TyP39sirScZHaEb0ma4HGKFf",
      "include_colab_link": true
    },
    "kernelspec": {
      "name": "python3",
      "display_name": "Python 3"
    },
    "language_info": {
      "name": "python"
    }
  },
  "cells": [
    {
      "cell_type": "markdown",
      "metadata": {
        "id": "view-in-github",
        "colab_type": "text"
      },
      "source": [
        "<a href=\"https://colab.research.google.com/github/Dilru1/X-ray_Files/blob/main/X_ray_Project.ipynb\" target=\"_parent\"><img src=\"https://colab.research.google.com/assets/colab-badge.svg\" alt=\"Open In Colab\"/></a>"
      ]
    },
    {
      "cell_type": "code",
      "execution_count": 1,
      "metadata": {
        "id": "upPRzKnx7bXz"
      },
      "outputs": [],
      "source": [
        "import os\n",
        "from astropy.io import fits\n",
        "import matplotlib.pyplot as plt\n",
        "import numpy as np \n",
        "import sys\n",
        "from scipy import special\n"
      ]
    },
    {
      "cell_type": "markdown",
      "source": [
        "## Mount Drive\n",
        "\n",
        "Before mounting the drive click on [this folder](https://drive.google.com/drive/folders/1rXKMGDayWkZCsbHAcIANkZhYYTdqpCjx?usp=sharing) and add it to your google drive by following these steps:\n",
        "\n",
        "*   Go to your drive \n",
        "*   Find shared folder (\"Shared with me\" link)\n",
        "*   Right click it\n",
        "*   \"Add Shortcut to Drive\""
      ],
      "metadata": {
        "id": "KF2US5zQ7-D1"
      }
    },
    {
      "cell_type": "code",
      "source": [
        "from google.colab import drive\n",
        "drive.mount('/content/drive')\n"
      ],
      "metadata": {
        "colab": {
          "base_uri": "https://localhost:8080/"
        },
        "id": "u8SmiNT77k0b",
        "outputId": "bd276883-9049-4ba9-e40d-95f8e588f2c3"
      },
      "execution_count": 7,
      "outputs": [
        {
          "output_type": "stream",
          "name": "stdout",
          "text": [
            "Drive already mounted at /content/drive; to attempt to forcibly remount, call drive.mount(\"/content/drive\", force_remount=True).\n"
          ]
        }
      ]
    },
    {
      "cell_type": "code",
      "source": [
        "def init():\n",
        "    # Root - working folder\n",
        "    global mypath\n",
        "    mypath ='/content/drive/My Drive/X-ray_project_Data/data/'\n",
        "    \n",
        "    # Folder conatining the code and the observation list\n",
        "    global flux,maps\n",
        "    flux = mypath+'flux_eff/'\n",
        "    maps = mypath+ 'maps_eff/'\n",
        "init()\n"
      ],
      "metadata": {
        "id": "-cin7bVM85iK"
      },
      "execution_count": 13,
      "outputs": []
    },
    {
      "cell_type": "code",
      "source": [
        "#data file for each epoch \n",
        "ima_filename1 = np.array(fits.open(maps+'mosa-6320-6480_sub_30arcsec_2000.fits')[0].data) #2000\n",
        "ima_filename2 = np.array(fits.open(maps+'mosa-6320-6480_sub_30arcsec_2004.fits')[0].data) #2004\n",
        "ima_filename3 = np.array(fits.open(maps+'mosa-6320-6480_sub_30arcsec_2012.fits')[0].data) #2008\n",
        "ima_filename4 = np.array(fits.open(maps+'mosa-6320-6480_sub_30arcsec_2018.fits')[0].data) #2012\n",
        "ima_filename5 = np.array(fits.open(maps+'mosa-6320-6480_sub_30arcsec_2020.fits')[0].data) #2018\n",
        "\n",
        "#error file for each epoch \n",
        "\n",
        "ima_netfilename1 = np.array(fits.open(maps+'Dmosa-6320-6480_sub_30arcsec_2000.fits')[0].data)\n",
        "ima_netfilename2 = np.array(fits.open(maps+'Dmosa-6320-6480_sub_30arcsec_2004.fits')[0].data)\n",
        "ima_netfilename3 = np.array(fits.open(maps+'Dmosa-6320-6480_sub_30arcsec_2012.fits')[0].data)\n",
        "ima_netfilename4 = np.array(fits.open(maps+'Dmosa-6320-6480_sub_30arcsec_2018.fits')[0].data)\n",
        "ima_netfilename5 = np.array(fits.open(maps+'Dmosa-6320-6480_sub_30arcsec_2020.fits')[0].data)\n"
      ],
      "metadata": {
        "id": "roUHsIhq9B6M"
      },
      "execution_count": 14,
      "outputs": []
    },
    {
      "cell_type": "code",
      "source": [
        "directory = os.fsencode(maps)\n",
        "myfiles=[]\n",
        "for file in os.listdir(directory):\n",
        "     filename = os.fsdecode(file)\n",
        "     if filename.endswith(\".fits\") and str(filename)[  (len(str(filename)) -9) : (len(str(filename)) -5) ] in ('2000','2004','2012','2018','2020' )   :\n",
        "         myfiles.append(filename)\n",
        "     else:\n",
        "         continue\n",
        "\n",
        "print(len(myfiles),\" Files are located in data folder \")\n",
        "myfiles.sort()\n",
        "\n",
        "path = os.getcwd()\n",
        "\n",
        "#Read in multiple files and store as multiple arrays  (See Ref :- https://stackoverflow.com/questions/57570095/how-to-read-in-multiple-files-and-store-as-multiple-arrays)\n",
        "d={}\n",
        "tup=0\n",
        "years = (2000,2004,2012,2018,2020,2000,2004,2012,2018,2020)\n",
        "\n",
        "for (i,j) in zip( range(len(myfiles)), years ):\n",
        "    os.chdir(directory)\n",
        "    filename = os.path.basename(myfiles[tup])\n",
        "    s=fits.open(filename)[0].data\n",
        "    paths =os.path.basename(''.join(myfiles[tup]))\n",
        "    s=fits.open(filename)[0].data\n",
        "    if i <= 4 :\n",
        "        d['error_{0}'.format(j)]= np.array(s)\n",
        "    if i > 4 :\n",
        "        d['flux_{0}'.format(j)]= np.array(s)\n",
        "    tup +=1\n",
        "    \n",
        "directory = os.fsencode('/content/drive/My Drive/X-ray_project_Data/Analy/')\n",
        "os.chdir(directory)"
      ],
      "metadata": {
        "colab": {
          "base_uri": "https://localhost:8080/"
        },
        "id": "42ivLP239Ya4",
        "outputId": "95384ae4-5ede-44de-abca-7d653cfaefe0"
      },
      "execution_count": 16,
      "outputs": [
        {
          "output_type": "stream",
          "name": "stdout",
          "text": [
            "10  Files are located in data folder \n"
          ]
        }
      ]
    },
    {
      "cell_type": "code",
      "source": [
        "def select_detect_data(d,nrow,ncol):\n",
        "    flux=[]\n",
        "    error=[]\n",
        "    for key in d:\n",
        "        if key in ('error_2000', 'error_2004', 'error_2012' , 'error_2018', 'error_2020'):\n",
        "            error.append(d[key][nrow][ncol])\n",
        "        else:\n",
        "            flux.append(d[key][nrow][ncol])\n",
        "    return flux,error"
      ],
      "metadata": {
        "id": "J3juVWoB-YDZ"
      },
      "execution_count": 17,
      "outputs": []
    },
    {
      "cell_type": "code",
      "source": [
        "y_min= -4.5665634861108334e-07\n",
        "y_max= 4.820102166526607e-06\n",
        "N_grid=100\n",
        "Grid= np.linspace(y_min, y_max , N_grid )\n",
        "sqrt2= np.sqrt(2) "
      ],
      "metadata": {
        "id": "rM-ndB29_VAH"
      },
      "execution_count": 19,
      "outputs": []
    },
    {
      "cell_type": "code",
      "source": [
        "def select_ftval(PIXEL_X,PIXEL_Y):\n",
        "    sample_data  =np.zeros(5)\n",
        "    sample_error =np.zeros(5)\n",
        "    B=0\n",
        "    P_new,P_old, ft_val=[],[], []\n",
        "    for i in Grid:\n",
        "        sample_data  =np.array( select_detect_data(d,PIXEL_X,PIXEL_Y)[0]  )\n",
        "        sample_error =np.array( select_detect_data(d,PIXEL_X,PIXEL_Y)[1]  )\n",
        "        sample_error=np.ma.masked_invalid(sample_error)\n",
        "        sample_data= np.ma.masked_values(sample_data,0)\n",
        "        xval= (i- sample_data )/( (sqrt2*sample_error) )\n",
        "        errf= 0.5*special.erfc(xval)\n",
        "        P= np.prod(errf)\n",
        "        D= 2*(np.sum(1-P))\n",
        "        Q_old = P**(1/5)\n",
        "        Q_new =P**(1/D)\n",
        "        P_new.append(Q_new)\n",
        "        P_old.append(Q_old)\n",
        "        ft_val.append(i)\n",
        "\n",
        "    P_new=np.array(P_new)\n",
        "    P_old=np.array(P_old)\n",
        "    ft_val=np.array(ft_val)\n",
        "\n",
        "    try:\n",
        "        B = np.max( np.where(P_new > 0.5 )[0] )\n",
        "        ft_map=ft_val[B]\n",
        "        return ft_map\n",
        "    except ValueError:  #raised if `y` is empty.\n",
        "        pass\n",
        "   \n",
        "\n",
        "test=[]\n",
        "map=np.zeros((30, 30))\n",
        "for i in range(30):\n",
        "    for j in range(30):\n",
        "        test.append(select_ftval(i,j))\n",
        "test= np.array(test)"
      ],
      "metadata": {
        "colab": {
          "base_uri": "https://localhost:8080/"
        },
        "id": "RYAcKy8J_B4F",
        "outputId": "298b2f32-3e93-49db-cf41-eba30358aaf1"
      },
      "execution_count": 20,
      "outputs": [
        {
          "output_type": "stream",
          "name": "stderr",
          "text": [
            "/usr/local/lib/python3.7/dist-packages/ipykernel_launcher.py:18: RuntimeWarning: divide by zero encountered in double_scalars\n"
          ]
        }
      ]
    },
    {
      "cell_type": "code",
      "source": [
        "def select_ftval(PIXEL_X,PIXEL_Y):\n",
        "    sample_data  =np.zeros(5)\n",
        "    sample_error =np.zeros(5)\n",
        "    B=0\n",
        "    P_new,P_old, ft_val=[],[], []\n",
        "    for i in Grid:\n",
        "        sample_data  =np.array( select_detect_data(d,PIXEL_X,PIXEL_Y)[0]  )\n",
        "        sample_error =np.array( select_detect_data(d,PIXEL_X,PIXEL_Y)[1]  )\n",
        "        sample_error=np.ma.masked_invalid(sample_error)\n",
        "        sample_data= np.ma.masked_values(sample_data,0)\n",
        "        xval= (i- sample_data )/( (sqrt2*sample_error) )\n",
        "        errf= 0.5*special.erfc(xval)\n",
        "        P= np.prod(errf)\n",
        "        D= 2*(np.sum(1-P))\n",
        "        Q_old = P**(1/5)\n",
        "        Q_new =P**(1/D)\n",
        "        P_new.append(Q_new)\n",
        "        P_old.append(Q_old)\n",
        "        ft_val.append(i)\n",
        "\n",
        "    P_new=np.array(P_new)\n",
        "    P_old=np.array(P_old)\n",
        "    ft_val=np.array(ft_val)\n",
        "\n",
        "    #B = ( np.where(P_new > 0.5 )[0] )[-1]\n",
        "    #ft_ee= ft_val[B]\n",
        "    #print(\"last ft value is :\",ft_ee)\n",
        "    #eturn ft_ee\n",
        "\n",
        "    try:\n",
        "        B1 = np.max( np.where(P_old > 0.5 )[0] )\n",
        "        ft_mapold=ft_val[B1]\n",
        "        return ft_mapold\n",
        "    except ValueError:  #raised if `y` is empty.\n",
        "        pass\n",
        "   \n",
        "\n",
        "testold=[]\n",
        "map=np.zeros((30, 30))\n",
        "for i in range(30):\n",
        "    for j in range(30):\n",
        "        testold.append(select_ftval(i,j))\n",
        "testold= np.array(testold)\n"
      ],
      "metadata": {
        "colab": {
          "base_uri": "https://localhost:8080/"
        },
        "id": "gW0yVWSJ_RgQ",
        "outputId": "57c087e8-ad49-4f36-c77b-d74fa57dfdf8"
      },
      "execution_count": 21,
      "outputs": [
        {
          "output_type": "stream",
          "name": "stderr",
          "text": [
            "/usr/local/lib/python3.7/dist-packages/ipykernel_launcher.py:16: RuntimeWarning: divide by zero encountered in double_scalars\n",
            "  app.launch_new_instance()\n"
          ]
        }
      ]
    },
    {
      "cell_type": "code",
      "source": [
        ""
      ],
      "metadata": {
        "id": "l0UhcT1U_z51"
      },
      "execution_count": null,
      "outputs": []
    }
  ]
}